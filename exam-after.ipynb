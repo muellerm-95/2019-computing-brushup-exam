{
 "cells": [
  {
   "cell_type": "markdown",
   "metadata": {
    "ein.tags": "worksheet-0",
    "slideshow": {
     "slide_type": "-"
    }
   },
   "source": [
    "# Problem 1: Data with R"
   ]
  },
  {
   "cell_type": "code",
   "execution_count": 1,
   "metadata": {
    "autoscroll": false,
    "ein.hycell": false,
    "ein.tags": "worksheet-0",
    "slideshow": {
     "slide_type": "-"
    }
   },
   "outputs": [],
   "source": [
    "%load_ext rpy2.ipython"
   ]
  },
  {
   "cell_type": "code",
   "execution_count": 2,
   "metadata": {
    "autoscroll": false,
    "ein.hycell": false,
    "ein.tags": "worksheet-0",
    "slideshow": {
     "slide_type": "-"
    }
   },
   "outputs": [
    {
     "name": "stderr",
     "output_type": "stream",
     "text": [
      "/opt/conda/lib/python3.7/site-packages/rpy2/rinterface/__init__.py:146: RRuntimeWarning: ── Attaching packages ─────────────────────────────────────── tidyverse 1.2.1 ──\n",
      "\n",
      "  warnings.warn(x, RRuntimeWarning)\n",
      "/opt/conda/lib/python3.7/site-packages/rpy2/rinterface/__init__.py:146: RRuntimeWarning: ✔ ggplot2 3.2.1     ✔ purrr   0.3.2\n",
      "✔ tibble  2.1.3     ✔ dplyr   0.8.3\n",
      "✔ tidyr   0.8.3     ✔ stringr 1.4.0\n",
      "✔ readr   1.3.1     ✔ forcats 0.4.0\n",
      "\n",
      "  warnings.warn(x, RRuntimeWarning)\n",
      "/opt/conda/lib/python3.7/site-packages/rpy2/rinterface/__init__.py:146: RRuntimeWarning: ── Conflicts ────────────────────────────────────────── tidyverse_conflicts() ──\n",
      "✖ dplyr::filter() masks stats::filter()\n",
      "✖ dplyr::lag()    masks stats::lag()\n",
      "\n",
      "  warnings.warn(x, RRuntimeWarning)\n"
     ]
    }
   ],
   "source": [
    "%%R\n",
    "\n",
    "library(tidyverse)"
   ]
  },
  {
   "cell_type": "code",
   "execution_count": 3,
   "metadata": {
    "autoscroll": false,
    "ein.hycell": false,
    "ein.tags": "worksheet-0",
    "slideshow": {
     "slide_type": "-"
    }
   },
   "outputs": [
    {
     "name": "stderr",
     "output_type": "stream",
     "text": [
      "/opt/conda/lib/python3.7/site-packages/rpy2/rinterface/__init__.py:146: RRuntimeWarning: Parsed with column specification:\n",
      "cols(\n",
      "  X = col_double(),\n",
      "  label = col_double()\n",
      ")\n",
      "\n",
      "  warnings.warn(x, RRuntimeWarning)\n"
     ]
    }
   ],
   "source": [
    "%%R\n",
    "# make sure to get your data in the same folder, next to the notebook file\n",
    "# so that this will run!\n",
    "\n",
    "\n",
    "dat <- read_csv('classification_data.csv')"
   ]
  },
  {
   "cell_type": "code",
   "execution_count": 95,
   "metadata": {
    "autoscroll": false,
    "ein.hycell": false,
    "ein.tags": "worksheet-0",
    "slideshow": {
     "slide_type": "-"
    }
   },
   "outputs": [
    {
     "data": {
      "text/plain": [
       "[1] \"NULL\"\n",
       "[1] \"NULL\"\n",
       "Observations: 1,000\n",
       "Variables: 2\n",
       "$ X     <dbl> 2.457573746, 1.545726716, 5.510643708, 0.118720645, 7.508892796…\n",
       "$ label <fct> 0, 0, 0, 0, 0, 0, 0, 0, 0, 0, 0, 0, 0, 0, 0, 0, 0, 0, 0, 0, 0, …\n"
      ]
     },
     "metadata": {},
     "output_type": "display_data"
    },
    {
     "data": {
      "image/png": "[encoded data removed]"
     },
     "metadata": {},
     "output_type": "display_data"
    }
   ],
   "source": [
    "%%R\n",
    "#dat$label\n",
    "\n",
    "# Your data consists of an \"X\" column and a \"label\" column\n",
    "# Use ggplot to plot a kernel density estimate of each label (overlayed on the same plot)\n",
    "# hint: Don't forget to make sure the labels are factors!\n",
    "# hint hint: Read the errors carefully! \n",
    "# Read the documentation for parse_factor (readr) if confused!\n",
    "\n",
    "print(class(dat$labels[2]))\n",
    "temp <-dat %>% mutate(label = as.character(label)) %>%\n",
    "            mutate(label = parse_factor(label,include_na=TRUE))\n",
    "print(class(dat$labels[2]))\n",
    "\n",
    "glimpse(temp)\n",
    "\n",
    "ggplot(temp, aes(x=X,color=label)) + geom_histogram(fill=\"white\")\n"
   ]
  },
  {
   "cell_type": "markdown",
   "metadata": {
    "ein.tags": "worksheet-0",
    "slideshow": {
     "slide_type": "-"
    }
   },
   "source": [
    "# Problem 2: Using Classes in Python\n",
    "\n",
    "In this problem, you will use the classes in the following cell. **You do not need to modify the classes or touch the code in the following cell in any way!**"
   ]
  },
  {
   "cell_type": "code",
   "execution_count": 5,
   "metadata": {
    "autoscroll": false,
    "ein.hycell": false,
    "ein.tags": "worksheet-0",
    "slideshow": {
     "slide_type": "-"
    }
   },
   "outputs": [],
   "source": [
    "from abc import ABC, abstractmethod\n",
    "from math import sqrt\n",
    "\n",
    "def smart_zip(a,b):\n",
    "    try:\n",
    "        return zip(a, b)\n",
    "    except TypeError:\n",
    "        return zip([a], [b])\n",
    "\n",
    "class AbstractKNeighbors(ABC):\n",
    "    def __init__(self, K):\n",
    "        self.K = K\n",
    "\n",
    "    def fit(self, X, y):\n",
    "        \"\"\" Train the model!\n",
    "\n",
    "        X should be a list of data points\n",
    "        y should be a list of labels\n",
    "        \"\"\"\n",
    "        self.X = X\n",
    "        self.y = y\n",
    "        return self\n",
    "\n",
    "    @abstractmethod\n",
    "    def _make_prediction(self, labels):\n",
    "        pass\n",
    "\n",
    "    def predict(self, new_x):\n",
    "        \"\"\"Find the nearest K neighbors\n",
    "        \n",
    "        new_x should be a single data point\n",
    "        \"\"\"\n",
    "\n",
    "        dists = [sqrt(sum(([(i-j)**2 for i,j in smart_zip(x,new_x)])))\n",
    "                 for x in self.X]\n",
    "        sorted_neighbors = sorted(enumerate(dists),\n",
    "                                  key=lambda t: t[1])\n",
    "        labels = [self.y[i] for i,_ in sorted_neighbors]\n",
    "        return self._make_prediction(labels)\n",
    "\n",
    "\n",
    "class KNearestNeighbors(AbstractKNeighbors):\n",
    "    def _make_prediction(self, labels):\n",
    "        avg = sum(labels[:self.K])/self.K\n",
    "        return round(avg)\n",
    "\n",
    "class KFurthestNeighbors(AbstractKNeighbors):\n",
    "    def _make_prediction(self, labels):\n",
    "        avg = sum(labels[-self.K:])/self.K\n",
    "        return round(1 - avg)"
   ]
  },
  {
   "cell_type": "code",
   "execution_count": 16,
   "metadata": {
    "autoscroll": false,
    "ein.hycell": false,
    "ein.tags": "worksheet-0",
    "slideshow": {
     "slide_type": "-"
    }
   },
   "outputs": [],
   "source": [
    "from csv import reader\n",
    "\n",
    "with open('classification_data.csv', 'r') as f:\n",
    "    dat = list(reader(f))[1:]\n",
    "    dat = [[float(x), int(label)] for x,label in dat]"
   ]
  },
  {
   "cell_type": "markdown",
   "metadata": {
    "ein.tags": "worksheet-0",
    "slideshow": {
     "slide_type": "-"
    }
   },
   "source": [
    "## Problem 2.1: Shuffling!"
   ]
  },
  {
   "cell_type": "code",
   "execution_count": 26,
   "metadata": {
    "autoscroll": false,
    "ein.hycell": false,
    "ein.tags": "worksheet-0",
    "slideshow": {
     "slide_type": "-"
    }
   },
   "outputs": [
    {
     "data": {
      "text/plain": [
       "[2.700335147126782, 0]"
      ]
     },
     "execution_count": 26,
     "metadata": {},
     "output_type": "execute_result"
    }
   ],
   "source": [
    "# In your data, \"X\" is a data point that is nothing more than\n",
    "# a single number. \n",
    "# Shuffle your data into a random order (use random.shuffle!)\n",
    "import random\n",
    "random.shuffle(dat)"
   ]
  },
  {
   "cell_type": "code",
   "execution_count": 18,
   "metadata": {
    "autoscroll": false,
    "ein.hycell": false,
    "ein.tags": "worksheet-0",
    "slideshow": {
     "slide_type": "-"
    }
   },
   "outputs": [],
   "source": [
    "# If you shuffled your data, this test should pass\n",
    "# (i.e. not throw an error)\n",
    "\n",
    "assert(sum([label for x,label in dat[:50]]) != 0)"
   ]
  },
  {
   "cell_type": "markdown",
   "metadata": {
    "ein.tags": "worksheet-0",
    "slideshow": {
     "slide_type": "-"
    }
   },
   "source": [
    "## Problem 2.2: Splitting!"
   ]
  },
  {
   "cell_type": "code",
   "execution_count": 27,
   "metadata": {
    "autoscroll": false,
    "ein.hycell": false,
    "ein.tags": "worksheet-0",
    "slideshow": {
     "slide_type": "-"
    }
   },
   "outputs": [
    {
     "name": "stdout",
     "output_type": "stream",
     "text": [
      "700 300\n"
     ]
    }
   ],
   "source": [
    "# Split your data, which is now a list, into 2 sublists:\n",
    "# \"train\" and \"test\"\n",
    "# The \"train\" group should have 700 elements\n",
    "# The test group should have 300 elements\n",
    "# Each group should have the same format as the original data\n",
    "train = dat[0:700]\n",
    "test = dat[700:1000]\n",
    "print(len(train),len(test))"
   ]
  },
  {
   "cell_type": "code",
   "execution_count": 34,
   "metadata": {
    "autoscroll": false,
    "ein.hycell": false,
    "ein.tags": "worksheet-0",
    "slideshow": {
     "slide_type": "-"
    }
   },
   "outputs": [
    {
     "name": "stdout",
     "output_type": "stream",
     "text": [
      "[4.010844725698379, -3.5495528330693578, 1.4217043106622305, 0.5081307515000735, 1.5779077677252262, 1.6041162885240914, 3.6033774483309773, -1.3550020384763122, 2.4650401245997813, -2.086813662757523, 0.9633122641416179, 3.851065673461741, 2.039209604757846, 6.073744644450936, -0.803102988962689, 2.0977555011411138, 4.470194808398365, -3.0821537836372768, -7.683117159761189, 1.4710002487477172, 2.1641980428645016, -4.073443636482749, -0.7719882519639125, -0.3965983510169768, 2.037146236535045, -3.5486551041379935, 1.6647431750633035, 3.3275658257360003, 3.4494075114993477, 5.465960747113644, 1.167770349614657, 3.681841009894776, 2.8580869794262522, 1.0564829647915244, 2.606467125979327, -3.1837714688343874, -2.818900130973865, 2.358544270246075, 3.9770533472361205, 1.9203409843761932, 2.6076652013525248, 0.9034389723246239, 2.738383515220932, -0.671606128754862, -1.885272211588096, 0.9980292150709729, 1.003073067553923, -2.182004305819434, 0.5402481667590708, -2.0880856199145157, -2.6498703707394133, 0.5396597754593973, 7.149411819471178, 2.460710942935767, 3.446858624907187, -3.5949862900978453, 4.1151202593523735, 4.682826042149369, -5.646534489456365, 0.6568636752887917, -4.764791182400772, -7.983835199216159, -4.271930356859123, -2.1343280863410596, 1.2962310930578917, 1.6412352025263535, 5.485184670658992, 5.158404657809678, 3.4346007912726053, -1.3514879095053527, 0.49652554601870413, 1.2080839371353602, -3.2412297324853663, 1.0211785021684068, 4.546706494245249, 0.5421012018557412, 2.654562450744331, 2.756167282688504, -0.8071546047805382, 2.6864769483989592, -8.291087196666565, -1.6869067678834844, 2.460463774566515, 2.2091176130847043, 6.324572549383945, 0.535204043331087, 2.0656086807361707, 1.6447747567970452, 3.5226527282790148, -2.1589036565814235, -2.639330915663074, 3.6609536940508325, -0.2754874963042018, -8.32092678014754, -3.3822990734146647, 1.5457267163245665, -0.8460386301924194, 0.17313563865561044, 0.8784206088527555, -0.11718887667672684, 7.2782226004466555, 0.4793106992178875, 4.047286663036722, 1.3489559456478246, 1.9793093778316837, 3.424953827976971, 5.781853379730526, 4.243220343717827, 1.229936471930439, 7.394755558505678, 2.508567708376467, -0.7163662254859144, 6.712015521058599, -0.8500048973987229, 2.3988248742926817, 5.499777026369838, -2.0290989445765506, -2.1822588357372394, 0.3337009447676118, 1.2979195299961905, -0.9548611962110026, 0.2070762533691599, 1.1843134295585687, -0.9423335001024518, -1.1776615079285357, 3.1818370158731524, -2.3164922401287886, -0.6350037501727901, 1.819126188271529, -0.662178677222331, -1.5649525209097637, 2.0188816095036035, -0.07559322605651797, -5.944435998951743, 2.461919773030365, 3.0058247534544185, 0.9616625726034538, -1.0529548728669724, -0.748736638717522, 1.981048176718918, -0.9892901056128536, 0.827480082244451, 0.35473574998695945, 0.7875154230613004, -0.3990900634056326, 2.8462407491116197, -1.3045408090446569, 0.9531475266111435, -0.6328722104882281, 0.1255057716759076, -0.21367294346653865, -6.992951554283538, 1.856923683627106, -2.2467346239793784, -0.29698052019171506, 1.8759373547881781, 3.917504456742096, 2.3520761563892973, -3.9468247919435147, 2.4266100044810397, 4.1710400577362865, 0.8555757902576671, -0.8906763142402088, -4.876036661659118, 4.308864818339803, 0.47933707613515786, 1.7009194360824087, 3.56041036498233, 3.0595265243490033, 1.0873617842783294, -6.264856352595013, 2.312774412846026, 2.1598704362944066, -3.6402982728576103, 2.8835286952920196, 3.3882583074963395, 1.8994124121641933, -6.42369926186037, 3.9706069123623613, 2.0419823602905063, 5.226022325487157, 0.09944866337274227, 3.0473266511020625, -4.890095192777308, -0.43951040785720563, 1.6124858474946926, -2.13685642662312, 1.9468737318884288, -0.3272984310753201, 0.5140536170655325, -0.41319748122297906, -2.609162580561177, -3.1657161945303858, 0.34037659767191486, -0.5326357672851524, 0.7599949074572425, 3.360004562621029, -1.403590699252923, -0.17296267405218624, 2.7603668269976662, -0.38138764039928696, -5.916893214358614, 0.4607719018897578, 0.963473553070185, -9.763935077276724, 2.8427968825597443, 1.8761973447657547, 4.201337655421225, 3.7053101273873175, -0.1877633859491079, 1.050169294133651, 1.8533395762115095, 0.9092033809977633, 1.0270044792985975, 1.166482758130305, -3.8953040740856824, -5.571607967190319, 0.6570275755383994, 3.9191972181602464, -2.2469998062891237, 2.2963257055178654, -2.626742711904975, -1.164068138103106, 2.294880894698525, 2.6633275622964288, -0.997795127303397, 1.366376182241103, 2.3547306652787845, -4.429479295241055, -0.5519947001001322, 6.1410844278502825, -0.36799323379095217, 0.2662564314977094, -0.2752020117725411, 0.4914031552240292, 5.1690443585075005, 1.274070225336518, -9.025686224126156, 6.011219558926496, -0.0034466284431724503, -1.1179384320849142, 3.4977514996031447, -0.3943195372951407, -0.9233677817894359, -2.2721822408843257, 0.8908502293678233, 2.929639090433194, 2.474937367506108, -3.9085244750512427, 0.3380291831924067, -1.4742207949592276, 3.75575595688977, -3.1511706291883543, 3.785110513895109, -3.6280819490620964, 2.6936819362572706, 1.07327318225092, -2.3314977143050855, -2.1640961525752114, -2.9355940305255954, -3.6164641484227804, 1.5826004702644036, -0.37814365992606236, -2.175011149149658, 4.779737097912888, 2.7185046861672912, 0.8631917755200313, 2.3531904645085993, -1.7565563537509252, -0.18038694599286087, 3.6918292711937535, 4.961606965879879, -0.557249226332617, -7.735093267932426, 2.5477351182320818, -0.25594290872299874, -0.550505235539919, -2.2057206749088016, 3.173046045225896, 6.839335518138163, -5.929049750859848, 2.1100656998999603, -3.6163964804438553, 3.318216637043861, 4.656774199199251, 1.710564728963808, -2.5833570006796567, 0.06951420837039146, 2.1155318312967566, -0.14504634104687986, -0.2815325714130683, 0.05176882532535254, -0.4794026972490686, 5.166809288768791, 1.9152521415403263, 0.2550502738167042, 5.510643707574443, -4.794641117656254, 0.8449614992644543, 4.917365430585192]\n"
     ]
    }
   ],
   "source": [
    "# Now you will need to make another split, within the groups!\n",
    "# For each group (\"train\" and \"test\") split the X's from the labels.\n",
    "train_x = [pair[0] for pair in train]\n",
    "train_y = [pair[1] for pair in train]\n",
    "\n",
    "test_x = [pair[0] for pair in test]\n",
    "test_y = [pair[1] for pair in test]\n"
   ]
  },
  {
   "cell_type": "markdown",
   "metadata": {
    "ein.tags": "worksheet-0",
    "slideshow": {
     "slide_type": "-"
    }
   },
   "source": [
    "## Problem 2.3: Testing models!"
   ]
  },
  {
   "cell_type": "code",
   "execution_count": 53,
   "metadata": {
    "autoscroll": false,
    "ein.hycell": false,
    "ein.tags": "worksheet-0",
    "slideshow": {
     "slide_type": "-"
    }
   },
   "outputs": [
    {
     "name": "stdout",
     "output_type": "stream",
     "text": [
      "4 2\n"
     ]
    }
   ],
   "source": [
    "import numpy as np# For each model: \n",
    "# 1. Create an instance the class, with constructor parameters: K=5\n",
    "knn= KNearestNeighbors(K=5)\n",
    "\n",
    "\n",
    "kfn = KFurthestNeighbors(K=5)\n",
    "# 2. Train the instance on the \"train\" groups X's and labels (y's)\n",
    "knn.fit(train_x,train_y)\n",
    "\n",
    "kfn.fit(train_x,train_y)\n",
    "\n",
    "# 3. Test how well the instance does: \n",
    "#    A. Use the trained instance to predict the label of each \"X\" in the \"test\" group\n",
    "knn_pred = []\n",
    "kfn_pred = []\n",
    "for point in test_x[0:10]:\n",
    "    knn_pred += [knn.predict(point)]\n",
    "    kfn_pred += [kfn.predict(point)]\n",
    "#    B. Use your \"test\" labels to see if the predicted label is equal the true label\n",
    "knn_diff = 0\n",
    "kfn_diff = 0\n",
    "for i in range(0,len(knn_pred)):\n",
    "    knn_diff += abs(knn_pred[i]-test_y[i])\n",
    "    kfn_diff += abs(kfn_pred[i]-test_y[i])\n",
    "print(knn_diff,kfn_diff)"
   ]
  },
  {
   "cell_type": "code",
   "execution_count": null,
   "metadata": {
    "autoscroll": false,
    "ein.hycell": false,
    "ein.tags": "worksheet-0",
    "slideshow": {
     "slide_type": "-"
    }
   },
   "outputs": [],
   "source": [
    "# Compare the two classes of models!\n",
    "# Kfn works better! "
   ]
  }
 ],
 "metadata": {
  "kernelspec": {
   "display_name": "Python 3",
   "language": "python",
   "name": "python3"
  },
  "language_info": {
   "codemirror_mode": {
    "name": "ipython",
    "version": 3
   },
   "file_extension": ".py",
   "mimetype": "text/x-python",
   "name": "python",
   "nbconvert_exporter": "python",
   "pygments_lexer": "ipython3",
   "version": "3.7.3"
  },
  "name": "exam-after.ipynb"
 },
 "nbformat": 4,
 "nbformat_minor": 2
}
